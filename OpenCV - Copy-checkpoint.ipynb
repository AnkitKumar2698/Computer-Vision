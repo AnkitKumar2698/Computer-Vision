{
 "cells": [
  {
   "cell_type": "code",
   "execution_count": 1,
   "id": "9a3a276f",
   "metadata": {},
   "outputs": [],
   "source": [
    "import cv2"
   ]
  },
  {
   "cell_type": "code",
   "execution_count": 17,
   "id": "e60bcd53",
   "metadata": {},
   "outputs": [],
   "source": [
    "img=cv2.imread('first.jpg')"
   ]
  },
  {
   "cell_type": "code",
   "execution_count": 19,
   "id": "551ce001",
   "metadata": {},
   "outputs": [],
   "source": [
    "cv2.imshow('webcam',img)\n",
    "cv2.waitKey(0)\n",
    "cv2.destroyAllWindows()"
   ]
  },
  {
   "cell_type": "code",
   "execution_count": 10,
   "id": "c0c0c304",
   "metadata": {},
   "outputs": [
    {
     "data": {
      "text/plain": [
       "(683, 1023, 3)"
      ]
     },
     "execution_count": 10,
     "metadata": {},
     "output_type": "execute_result"
    }
   ],
   "source": [
    "img.shape"
   ]
  },
  {
   "cell_type": "code",
   "execution_count": 15,
   "id": "bcd3796a",
   "metadata": {},
   "outputs": [],
   "source": [
    "gray= cv2.cvtColor(img,cv2.COLOR_BGR2GRAY)\n"
   ]
  },
  {
   "cell_type": "code",
   "execution_count": 20,
   "id": "2ab635fd",
   "metadata": {},
   "outputs": [],
   "source": [
    "cv2.imshow('webcam',gray)\n",
    "cv2.waitKey(0)\n",
    "cv2.destroyAllWindows()"
   ]
  },
  {
   "cell_type": "code",
   "execution_count": 14,
   "id": "3445efd9",
   "metadata": {},
   "outputs": [
    {
     "data": {
      "text/plain": [
       "(683, 1023)"
      ]
     },
     "execution_count": 14,
     "metadata": {},
     "output_type": "execute_result"
    }
   ],
   "source": [
    "gray.shape"
   ]
  },
  {
   "cell_type": "code",
   "execution_count": 29,
   "id": "c5f684fa",
   "metadata": {},
   "outputs": [
    {
     "data": {
      "text/plain": [
       "numpy.uint8"
      ]
     },
     "execution_count": 29,
     "metadata": {},
     "output_type": "execute_result"
    }
   ],
   "source": [
    "type(gray[0][0])"
   ]
  },
  {
   "cell_type": "code",
   "execution_count": 34,
   "id": "a40e27c9",
   "metadata": {},
   "outputs": [],
   "source": [
    "hs= cv2.cvtColor(img,cv2.COLOR_BGR2HSV)\n",
    "cv2.imshow('window 1',hs)\n",
    "cv2.waitKey(0)\n",
    "cv2.destroyAllWindows()"
   ]
  },
  {
   "cell_type": "code",
   "execution_count": 33,
   "id": "320cf1dd",
   "metadata": {},
   "outputs": [
    {
     "data": {
      "text/plain": [
       "(683, 1023, 3)"
      ]
     },
     "execution_count": 33,
     "metadata": {},
     "output_type": "execute_result"
    }
   ],
   "source": [
    "hs.shape"
   ]
  },
  {
   "cell_type": "code",
   "execution_count": 39,
   "id": "3180b41b",
   "metadata": {},
   "outputs": [],
   "source": [
    "vid = cv2.VideoCapture('video.mp4')\n",
    "while True:\n",
    "    try:\n",
    "        _,frame= vid.read()\n",
    "        cv2.imshow('window2',frame)\n",
    "    except :\n",
    "        pass\n",
    "    if cv2.waitKey(1)==ord('q'):\n",
    "        break;\n",
    "        \n",
    "cv2.destroyAllWindows()"
   ]
  },
  {
   "cell_type": "code",
   "execution_count": 42,
   "id": "a34b0272",
   "metadata": {},
   "outputs": [
    {
     "data": {
      "text/plain": [
       "array([[237, 234, 230],\n",
       "       [238, 235, 231],\n",
       "       [236, 234, 233],\n",
       "       ...,\n",
       "       [109, 108, 112],\n",
       "       [108, 107, 111],\n",
       "       [108, 107, 111]], dtype=uint8)"
      ]
     },
     "execution_count": 42,
     "metadata": {},
     "output_type": "execute_result"
    }
   ],
   "source": [
    "img[0]"
   ]
  },
  {
   "cell_type": "markdown",
   "id": "4e7325a7",
   "metadata": {},
   "source": [
    "# Lect 2"
   ]
  },
  {
   "cell_type": "markdown",
   "id": "6f1d07d6",
   "metadata": {},
   "source": [
    "Edge Detection"
   ]
  },
  {
   "cell_type": "code",
   "execution_count": 2,
   "id": "bf7ec19e",
   "metadata": {},
   "outputs": [],
   "source": [
    "import cv2"
   ]
  },
  {
   "cell_type": "code",
   "execution_count": null,
   "id": "1fcde600",
   "metadata": {},
   "outputs": [],
   "source": []
  }
 ],
 "metadata": {
  "kernelspec": {
   "display_name": "Python 3 (ipykernel)",
   "language": "python",
   "name": "python3"
  },
  "language_info": {
   "codemirror_mode": {
    "name": "ipython",
    "version": 3
   },
   "file_extension": ".py",
   "mimetype": "text/x-python",
   "name": "python",
   "nbconvert_exporter": "python",
   "pygments_lexer": "ipython3",
   "version": "3.9.7"
  }
 },
 "nbformat": 4,
 "nbformat_minor": 5
}
